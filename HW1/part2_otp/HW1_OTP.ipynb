{
 "metadata": {
  "language_info": {
   "codemirror_mode": {
    "name": "ipython",
    "version": 3
   },
   "file_extension": ".py",
   "mimetype": "text/x-python",
   "name": "python",
   "nbconvert_exporter": "python",
   "pygments_lexer": "ipython3",
   "version": "3.9.1-final"
  },
  "orig_nbformat": 2,
  "kernelspec": {
   "name": "python3",
   "display_name": "Python 3",
   "language": "python"
  }
 },
 "nbformat": 4,
 "nbformat_minor": 2,
 "cells": [
  {
   "cell_type": "code",
   "execution_count": 1,
   "metadata": {},
   "outputs": [],
   "source": [
    "import collections\n",
    "from binascii import hexlify"
   ]
  },
  {
   "cell_type": "code",
   "execution_count": 2,
   "metadata": {},
   "outputs": [],
   "source": [
    "# ciphertext of flas\n",
    "c0 = \"7bdefb92aa75228b995ef32f7baa9cc082ffb70fcd92c883e97ddda70f7b05a9\"\n",
    "pa = \"aaaaaaaaaaaaaaaaaaaaaaaaaaaaaaaa\"\n",
    "ca = \"288fa3c5fa2674dbc907a17a29fccd91daade55c9bc099dab02f89f25d2952fb\"\n",
    "pb = \"bbbbbbbbbbbbbbbbbbbbbbbbbbbbbbbb\"\n",
    "cb = \"2b8ca0c6f92577d8ca04a2792affce92d9aee65f98c39ad9b32c8af15e2a51f8\"\n",
    "pc = \"cccccccccccccccccccccccccccccccc\"\n",
    "cc = \"2a8da1c7f82476d9cb05a3782bfecf93d8afe75e99c29bd8b22d8bf05f2b50f9\""
   ]
  },
  {
   "cell_type": "code",
   "execution_count": 3,
   "metadata": {},
   "outputs": [],
   "source": [
    "def xorHexString(a, b):\n",
    "    res = int(a, 16) ^ int(b, 16)\n",
    "    return hex(res)"
   ]
  },
  {
   "cell_type": "code",
   "execution_count": 4,
   "metadata": {},
   "outputs": [],
   "source": [
    "def stringToHex(a):\n",
    "    h = hexlify(a.encode())\n",
    "    return h.decode()"
   ]
  },
  {
   "cell_type": "code",
   "execution_count": 5,
   "metadata": {},
   "outputs": [
    {
     "output_type": "execute_result",
     "data": {
      "text/plain": [
       "'0x49eec2a49b4715baa866c01b489dacf0bbcc843dfaa1f8bbd14ee8933c48339a'"
      ]
     },
     "metadata": {},
     "execution_count": 5
    }
   ],
   "source": [
    "xorHexString(stringToHex(pa), ca)"
   ]
  },
  {
   "cell_type": "code",
   "execution_count": 6,
   "metadata": {},
   "outputs": [
    {
     "output_type": "execute_result",
     "data": {
      "text/plain": [
       "'0x49eec2a49b4715baa866c01b489dacf0bbcc843dfaa1f8bbd14ee8933c48339a'"
      ]
     },
     "metadata": {},
     "execution_count": 6
    }
   ],
   "source": [
    "xorHexString(stringToHex(pb), cb)"
   ]
  },
  {
   "cell_type": "code",
   "execution_count": 7,
   "metadata": {},
   "outputs": [
    {
     "output_type": "execute_result",
     "data": {
      "text/plain": [
       "'0x6262626262626262626262626262626262626262626262626262626262626262'"
      ]
     },
     "metadata": {},
     "execution_count": 7
    }
   ],
   "source": [
    "something = str(xorHexString(stringToHex(pb), cb))[2:]\n",
    "xorHexString(something, cb)"
   ]
  },
  {
   "cell_type": "code",
   "execution_count": 8,
   "metadata": {},
   "outputs": [
    {
     "output_type": "stream",
     "name": "stdout",
     "text": [
      "20961271183437009332730883543363\n"
     ]
    }
   ],
   "source": [
    "flagHex = xorHexString(something, c0)\n",
    "flagBytes = bytes.fromhex(flagHex[2:])\n",
    "flag = flagBytes.decode(\"ASCII\")\n",
    "print(flag)"
   ]
  }
 ]
}