{
 "metadata": {
  "language_info": {
   "codemirror_mode": {
    "name": "ipython",
    "version": 3
   },
   "file_extension": ".py",
   "mimetype": "text/x-python",
   "name": "python",
   "nbconvert_exporter": "python",
   "pygments_lexer": "ipython3",
   "version": "3.8.5-final"
  },
  "orig_nbformat": 2,
  "kernelspec": {
   "name": "python3",
   "display_name": "Python 3.8.5 64-bit ('InfoSec': pipenv)",
   "metadata": {
    "interpreter": {
     "hash": "6210b6b193651d2db4b120e6958ba68a56c70967aca2f5199a5d57fdd8a0ec98"
    }
   }
  }
 },
 "nbformat": 4,
 "nbformat_minor": 2,
 "cells": [
  {
   "cell_type": "code",
   "execution_count": 1,
   "metadata": {},
   "outputs": [],
   "source": [
    "ca =\"a42b7d2216a00b8af99c5e65a2dbff66b191f54a892be5225b0b8144d9751b9c507b6f896068ed5fbf1c8fdcf295ecb86af20fee3b2f009bceb0de6618c3cf6f\"\n",
    "cu = \"e334eef97046b1b698f9b08d7cc30271b191f54a892be5225b0b8144d9751b9c507b6f896068ed5fbf1c8fdcf295ecb860e0652a5678a96a87dd8931b50f82ff\"\n",
    "\n",
    "pa = \"I am yes an administrator. This cookie expires 2010-01-01.......\"\n",
    "\n",
    "pu = \"I am not an administrator. This cookie expires 2021-05-01.......\""
   ]
  },
  {
   "cell_type": "code",
   "execution_count": 2,
   "metadata": {},
   "outputs": [
    {
     "output_type": "stream",
     "name": "stdout",
     "text": [
      "I am yes an administrator. This cookie expires 2021-05-01.......\n"
     ]
    }
   ],
   "source": [
    "# I need the first half of pa and the second half of the pu\n",
    "pt = pa[:len(pa)//2] + pu[len(pu)//2:]\n",
    "print(pt)"
   ]
  },
  {
   "cell_type": "code",
   "execution_count": 3,
   "metadata": {},
   "outputs": [
    {
     "output_type": "stream",
     "name": "stdout",
     "text": [
      "a42b7d2216a00b8af99c5e65a2dbff66b191f54a892be5225b0b8144d9751b9c507b6f896068ed5fbf1c8fdcf295ecb860e0652a5678a96a87dd8931b50f82ff\n"
     ]
    }
   ],
   "source": [
    "# ECB generates the exact 16-byte block for the same input\n",
    "# Therefore, I could combine first half of ca and the second half of the cu\n",
    "ct = ca[:len(ca)//2] + cu[len(cu)//2:]\n",
    "print(ct)"
   ]
  },
  {
   "cell_type": "code",
   "execution_count": 4,
   "metadata": {},
   "outputs": [
    {
     "output_type": "execute_result",
     "data": {
      "text/plain": [
       "128"
      ]
     },
     "metadata": {},
     "execution_count": 4
    }
   ],
   "source": [
    "len(ct)"
   ]
  },
  {
   "cell_type": "code",
   "execution_count": 5,
   "metadata": {},
   "outputs": [
    {
     "output_type": "stream",
     "name": "stdout",
     "text": [
      "I am yes an administrator. This \n"
     ]
    }
   ],
   "source": [
    "print(pa[:len(pa)//2])"
   ]
  },
  {
   "cell_type": "code",
   "execution_count": 6,
   "metadata": {},
   "outputs": [
    {
     "output_type": "stream",
     "name": "stdout",
     "text": [
      "cookie expires 2010-01-01.......\n"
     ]
    }
   ],
   "source": [
    "print(pa[len(pa)//2:])"
   ]
  },
  {
   "cell_type": "code",
   "execution_count": null,
   "metadata": {},
   "outputs": [],
   "source": []
  }
 ]
}