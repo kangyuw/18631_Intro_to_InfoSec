{
 "metadata": {
  "language_info": {
   "codemirror_mode": {
    "name": "ipython",
    "version": 3
   },
   "file_extension": ".py",
   "mimetype": "text/x-python",
   "name": "python",
   "nbconvert_exporter": "python",
   "pygments_lexer": "ipython3",
   "version": "3.8.5-final"
  },
  "orig_nbformat": 2,
  "kernelspec": {
   "name": "python3",
   "display_name": "Python 3.8.5 64-bit ('InfoSec': pipenv)",
   "metadata": {
    "interpreter": {
     "hash": "6210b6b193651d2db4b120e6958ba68a56c70967aca2f5199a5d57fdd8a0ec98"
    }
   }
  }
 },
 "nbformat": 4,
 "nbformat_minor": 2,
 "cells": [
  {
   "cell_type": "code",
   "execution_count": 25,
   "metadata": {},
   "outputs": [],
   "source": [
    "from binascii import hexlify"
   ]
  },
  {
   "cell_type": "code",
   "execution_count": null,
   "metadata": {},
   "outputs": [],
   "source": [
    "# python3 snippet for string XOR:\n",
    "\n",
    "barr_1 = \"7f4d155f585c1f405e595313\"\n",
    "barr_2 = \"5f555b4916555b5f52145f47\"\n",
    "barr_3 = b\"\"\n",
    "for a,b in zip(bytes.fromhex(barr_1), bytes.fromhex(barr_2)):\n",
    "   barr_3 += bytes([a^b])\n",
    "\n",
    "print (barr_3.hex())"
   ]
  },
  {
   "cell_type": "code",
   "execution_count": 4,
   "metadata": {},
   "outputs": [],
   "source": [
    "def xorString(str1, str2):\n",
    "    res = b\"\"\n",
    "    for a,b in zip(bytes.fromhex(str1), bytes.fromhex(str2)):\n",
    "        res += bytes([a^b])\n",
    "    return res.hex()"
   ]
  },
  {
   "cell_type": "code",
   "execution_count": 18,
   "metadata": {},
   "outputs": [
    {
     "output_type": "execute_result",
     "data": {
      "text/plain": [
       "'6b'"
      ]
     },
     "metadata": {},
     "execution_count": 18
    }
   ],
   "source": [
    "xorString('78', '13')"
   ]
  },
  {
   "cell_type": "code",
   "execution_count": 41,
   "metadata": {},
   "outputs": [],
   "source": [
    "def stringToHex(a):\n",
    "    h = hexlify(a.encode())\n",
    "    return h.decode()"
   ]
  },
  {
   "cell_type": "code",
   "execution_count": 28,
   "metadata": {},
   "outputs": [],
   "source": [
    "sampleCookie = '{\"username\": \"guest\", \"expires\": \"xxxx-xx-xx\", \"is_admin\": \"false\"}'"
   ]
  },
  {
   "cell_type": "code",
   "execution_count": 29,
   "metadata": {},
   "outputs": [
    {
     "output_type": "execute_result",
     "data": {
      "text/plain": [
       "'7b22757365726e616d65223a20226775657374222c202265787069726573223a2022787878782d78782d7878222c202269735f61646d696e223a202266616c7365227d'"
      ]
     },
     "metadata": {},
     "execution_count": 29
    }
   ],
   "source": [
    "stringToHex(sampleCookie)"
   ]
  },
  {
   "cell_type": "code",
   "execution_count": 31,
   "metadata": {},
   "outputs": [
    {
     "output_type": "execute_result",
     "data": {
      "text/plain": [
       "134"
      ]
     },
     "metadata": {},
     "execution_count": 31
    }
   ],
   "source": [
    "len(stringToHex(sampleCookie))"
   ]
  },
  {
   "cell_type": "code",
   "execution_count": 32,
   "metadata": {},
   "outputs": [],
   "source": [
    "sampleCipher = \"0ca408a2aaa734602e0153fcfdeb575ac8ee13cdf1c60b0958cbcbaa6bc05c735f7c31bd2e3d068a5dfcb8cead861c65320446515d3195fd21983d7354666bfddb84f4baf0a79081e1794bd58186cc0a\""
   ]
  },
  {
   "cell_type": "code",
   "execution_count": 34,
   "metadata": {},
   "outputs": [],
   "source": [
    "targetCookie = '{\"username\": \"guest\", \"expires\": \"2022-01-07\", \"is_admin\": \"true\"}'"
   ]
  },
  {
   "cell_type": "code",
   "execution_count": 35,
   "metadata": {},
   "outputs": [
    {
     "output_type": "execute_result",
     "data": {
      "text/plain": [
       "66"
      ]
     },
     "metadata": {},
     "execution_count": 35
    }
   ],
   "source": [
    "len(targetCookie)"
   ]
  },
  {
   "cell_type": "code",
   "execution_count": 26,
   "metadata": {},
   "outputs": [
    {
     "output_type": "execute_result",
     "data": {
      "text/plain": [
       "[['', '', '', '', '', '', '', '', '', '', '', '', '', '', '', ''],\n",
       " ['', '', '', '', '', '', '', '', '', '', '', '', '', '', '', ''],\n",
       " ['', '', '', '', '', '', '', '', '', '', '', '', '', '', '', ''],\n",
       " ['', '', '', '', '', '', '', '', '', '', '', '', '', '', '', ''],\n",
       " ['', '', '', '', '', '', '', '', '', '', '', '', '', '', '', ''],\n",
       " ['', '', '', '', '', '', '', '', '', '', '', '', '', '', '', '']]"
      ]
     },
     "metadata": {},
     "execution_count": 26
    }
   ],
   "source": [
    "plainBlocks = [[\"\" for _ in range(16)] for _ in range(6)]\n",
    "plainBlocks"
   ]
  },
  {
   "cell_type": "code",
   "execution_count": 9,
   "metadata": {},
   "outputs": [
    {
     "output_type": "stream",
     "name": "stdout",
     "text": [
      "4\n3\n2\n1\n"
     ]
    }
   ],
   "source": [
    "for b in range(4,0,-1):\n",
    "    print(b)"
   ]
  },
  {
   "cell_type": "code",
   "execution_count": 13,
   "metadata": {},
   "outputs": [
    {
     "output_type": "stream",
     "name": "stdout",
     "text": [
      "15\n14\n13\n12\n11\n10\n9\n8\n7\n6\n5\n4\n3\n2\n1\n0\n"
     ]
    }
   ],
   "source": [
    "for i in range(15,-1,-1):\n",
    "    print(i)"
   ]
  },
  {
   "cell_type": "code",
   "execution_count": 1,
   "metadata": {},
   "outputs": [],
   "source": [
    "sample = [ ## Si\n",
    "    \"5468697320697320616e204956343536\", ## \"This is an IV456\"\n",
    "    \"0ca408a2aaa734602e0153fcfdeb575a\",\n",
    "    \"c8ee13cdf1c60b0958cbcbaa6bc05c73\",\n",
    "    \"5f7c31bd2e3d068a5dfcb8cead861c65\",\n",
    "    \"320446515d3195fd21983d7354666bfd\", ## Start here\n",
    "    \"db84f4baf0a79081e1794bd58186cc0a\"\n",
    "]\n",
    "\n",
    "sampleBlocks = []\n",
    "\n",
    "for block in sample:\n",
    "    temp = [block[i:i+2] for i in range(0, len(block), 2)]\n",
    "    sampleBlocks.append(temp)"
   ]
  },
  {
   "cell_type": "code",
   "execution_count": 31,
   "metadata": {},
   "outputs": [],
   "source": [
    "message = \"\"\n",
    "for block in sampleBlocks:\n",
    "    for item in block:\n",
    "        message += item"
   ]
  },
  {
   "cell_type": "code",
   "execution_count": 32,
   "metadata": {},
   "outputs": [
    {
     "output_type": "execute_result",
     "data": {
      "text/plain": [
       "'5468697320697320616e2049563435360ca408a2aaa734602e0153fcfdeb575ac8ee13cdf1c60b0958cbcbaa6bc05c735f7c31bd2e3d068a5dfcb8cead861c65320446515d3195fd21983d7354666bfddb84f4baf0a79081e1794bd58186cc0a'"
      ]
     },
     "metadata": {},
     "execution_count": 32
    }
   ],
   "source": [
    "message"
   ]
  },
  {
   "cell_type": "code",
   "execution_count": 34,
   "metadata": {},
   "outputs": [
    {
     "output_type": "stream",
     "name": "stdout",
     "text": [
      "00\n01\n02\n03\n04\n05\n06\n07\n08\n09\n0a\n0b\n0c\n0d\n0e\n0f\n10\n11\n12\n13\n14\n15\n16\n17\n18\n19\n1a\n1b\n1c\n1d\n1e\n1f\n20\n21\n22\n23\n24\n25\n26\n27\n28\n29\n2a\n2b\n2c\n2d\n2e\n2f\n30\n31\n32\n33\n34\n35\n36\n37\n38\n39\n3a\n3b\n3c\n3d\n3e\n3f\n40\n41\n42\n43\n44\n45\n46\n47\n48\n49\n4a\n4b\n4c\n4d\n4e\n4f\n50\n51\n52\n53\n54\n55\n56\n57\n58\n59\n5a\n5b\n5c\n5d\n5e\n5f\n60\n61\n62\n63\n64\n65\n66\n67\n68\n69\n6a\n6b\n6c\n6d\n6e\n6f\n70\n71\n72\n73\n74\n75\n76\n77\n78\n79\n7a\n7b\n7c\n7d\n7e\n7f\n80\n81\n82\n83\n84\n85\n86\n87\n88\n89\n8a\n8b\n8c\n8d\n8e\n8f\n90\n91\n92\n93\n94\n95\n96\n97\n98\n99\n9a\n9b\n9c\n9d\n9e\n9f\na0\na1\na2\na3\na4\na5\na6\na7\na8\na9\naa\nab\nac\nad\nae\naf\nb0\nb1\nb2\nb3\nb4\nb5\nb6\nb7\nb8\nb9\nba\nbb\nbc\nbd\nbe\nbf\nc0\nc1\nc2\nc3\nc4\nc5\nc6\nc7\nc8\nc9\nca\ncb\ncc\ncd\nce\ncf\nd0\nd1\nd2\nd3\nd4\nd5\nd6\nd7\nd8\nd9\nda\ndb\ndc\ndd\nde\ndf\ne0\ne1\ne2\ne3\ne4\ne5\ne6\ne7\ne8\ne9\nea\neb\nec\ned\nee\nef\nf0\nf1\nf2\nf3\nf4\nf5\nf6\nf7\nf8\nf9\nfa\nfb\nfc\nfd\nfe\nff\n"
     ]
    }
   ],
   "source": [
    "for v in range(256):\n",
    "    x = str(\"{:02x}\".format(v))\n",
    "    print(x)"
   ]
  },
  {
   "cell_type": "code",
   "execution_count": 20,
   "metadata": {},
   "outputs": [],
   "source": [
    "def getPadding(i):\n",
    "    return str(\"{:02x}\".format(16-i))"
   ]
  },
  {
   "cell_type": "code",
   "execution_count": 21,
   "metadata": {},
   "outputs": [
    {
     "output_type": "execute_result",
     "data": {
      "text/plain": [
       "'10'"
      ]
     },
     "metadata": {},
     "execution_count": 21
    }
   ],
   "source": [
    "getPadding(0)"
   ]
  },
  {
   "cell_type": "code",
   "execution_count": 28,
   "metadata": {},
   "outputs": [],
   "source": [
    "i = 15"
   ]
  },
  {
   "cell_type": "code",
   "execution_count": 29,
   "metadata": {},
   "outputs": [],
   "source": [
    "for j in range(i+1,16):\n",
    "    print(j)"
   ]
  },
  {
   "cell_type": "code",
   "execution_count": 60,
   "metadata": {},
   "outputs": [],
   "source": [
    "import copy"
   ]
  },
  {
   "cell_type": "code",
   "execution_count": 85,
   "metadata": {},
   "outputs": [],
   "source": [
    "sample = [ ## Si\n",
    "    \"5468697320697320616e204956343536\", ## \"This is an IV456\"\n",
    "    \"0ca408a2aaa734602e0153fcfdeb575a\",\n",
    "    \"c8ee13cdf1c60b0958cbcbaa6bc05c73\",\n",
    "    \"5f7c31bd2e3d068a5dfcb8cead861c65\",\n",
    "    \"320446515d3195fd21983d7354666bfd\", ## Start here\n",
    "    \"db84f4baf0a79081e1794bd58186cc0a\"\n",
    "]\n",
    "\n",
    "sampleBlocks = []\n",
    "\n",
    "## Spliting sample ciphertext\n",
    "for block in sample:\n",
    "    temp = [block[i:i+2] for i in range(0, len(block), 2)]\n",
    "    sampleBlocks.append(temp)\n"
   ]
  },
  {
   "cell_type": "code",
   "execution_count": 86,
   "metadata": {},
   "outputs": [],
   "source": [
    "sendBlocks = copy.deepcopy(sampleBlocks)"
   ]
  },
  {
   "cell_type": "code",
   "execution_count": 87,
   "metadata": {},
   "outputs": [
    {
     "output_type": "execute_result",
     "data": {
      "text/plain": [
       "'0a'"
      ]
     },
     "metadata": {},
     "execution_count": 87
    }
   ],
   "source": [
    "sendBlocks[-1][-1]"
   ]
  },
  {
   "cell_type": "code",
   "execution_count": 88,
   "metadata": {},
   "outputs": [
    {
     "output_type": "execute_result",
     "data": {
      "text/plain": [
       "'0a'"
      ]
     },
     "metadata": {},
     "execution_count": 88
    }
   ],
   "source": [
    "sampleBlocks[-1][-1]"
   ]
  },
  {
   "cell_type": "code",
   "execution_count": 89,
   "metadata": {},
   "outputs": [],
   "source": [
    "sendBlocks[-1][-1] = '00'"
   ]
  },
  {
   "cell_type": "code",
   "execution_count": 90,
   "metadata": {},
   "outputs": [
    {
     "output_type": "execute_result",
     "data": {
      "text/plain": [
       "'0a'"
      ]
     },
     "metadata": {},
     "execution_count": 90
    }
   ],
   "source": [
    "sampleBlocks[-1][-1]"
   ]
  },
  {
   "cell_type": "code",
   "execution_count": 5,
   "metadata": {},
   "outputs": [],
   "source": [
    "import copy"
   ]
  },
  {
   "cell_type": "code",
   "execution_count": 8,
   "metadata": {},
   "outputs": [
    {
     "output_type": "stream",
     "name": "stdout",
     "text": [
      "5\n4\n3\n"
     ]
    }
   ],
   "source": [
    "for b in range(3, 0, -1): ## start from S[4] to S[1]\n",
    "# b = 4\n",
    "    sendBlocks = copy.deepcopy(sampleBlocks[:b+2])\n",
    "    print(len(sendBlocks))"
   ]
  },
  {
   "cell_type": "code",
   "execution_count": 9,
   "metadata": {},
   "outputs": [],
   "source": [
    "def makeMessage(blocks):\n",
    "    message = \"\"\n",
    "    for block in blocks:\n",
    "        for item in block:\n",
    "            message += item\n",
    "    return message"
   ]
  },
  {
   "cell_type": "code",
   "execution_count": 1,
   "metadata": {},
   "outputs": [],
   "source": [
    "semi = ['69', 'd7', '7c', '80', '86', '87', '16', '05', '56', '71', '3a', '8e', '98', '98', '75', '60']\n",
    "vi = \"5468697320697320616e204956343536\""
   ]
  },
  {
   "cell_type": "code",
   "execution_count": 2,
   "metadata": {},
   "outputs": [],
   "source": [
    "semi = \"\".join(semi)"
   ]
  },
  {
   "cell_type": "code",
   "execution_count": 3,
   "metadata": {},
   "outputs": [
    {
     "output_type": "execute_result",
     "data": {
      "text/plain": [
       "'69d77c808687160556713a8e98987560'"
      ]
     },
     "metadata": {},
     "execution_count": 3
    }
   ],
   "source": [
    "semi"
   ]
  },
  {
   "cell_type": "code",
   "execution_count": null,
   "metadata": {},
   "outputs": [],
   "source": [
    "plain = [['79', 'd8', '72', '8d', '8a', '8c', '1c', '0c', '5e', '76', '3c', '8b', '9c', '9b', '77', '61'],\n",
    "['f8', 'c3', '2f', 'f0', 'cd', 'fd', '2c', '30', '61', 'e1', 'fd', '98', '4d', 'ef', '7e', '50'],\n",
    "['26', '00', '60', 'd1', '46', '5b', '65', 'ed', '77', 'c1', '9e', 'e9', 'cf', 'e4', '72', '17'],\n",
    "['47', '29', '35', '51', '5c', '37', '92', 'f9', '24', '92', '36', '7b', '5d', '68', '64', 'f1']]"
   ]
  },
  {
   "cell_type": "code",
   "execution_count": 12,
   "metadata": {},
   "outputs": [],
   "source": [
    "plaintext = xorString(semi, vi) + makeMessage(plain)"
   ]
  },
  {
   "cell_type": "code",
   "execution_count": 14,
   "metadata": {},
   "outputs": [
    {
     "output_type": "stream",
     "name": "stdout",
     "text": [
      "3dbf15f3a6ee6525371f1ac7ceac405679d8728d8a8c1c0c5e763c8b9c9b7761f8c32ff0cdfd2c3061e1fd984def7e50260060d1465b65ed77c19ee9cfe47217472935515c3792f92492367b5d6864f1\n"
     ]
    }
   ],
   "source": [
    "print(plaintext)"
   ]
  },
  {
   "cell_type": "code",
   "execution_count": 15,
   "metadata": {},
   "outputs": [],
   "source": [
    "semiCiphterBlocks = [['69', 'd7', '7c', '80', '86', '87', '16', '05', '56', '71', '3a', '8e', '98', '98', '75', '60'],\n",
    "['e8', 'cc', '21', 'fd', 'c1', 'f6', '26', '39', '69', 'e6', 'fb', '9d', '49', 'ec', '7c', '51'],\n",
    "['36', '0f', '6e', 'dc', '4a', '50', '6f', 'e4', '7f', 'c6', '98', 'ec', 'cb', 'e7', '70', '16'],\n",
    "['57', '26', '3b', '5c', '50', '3c', '98', 'f0', '2c', '95', '30', '7e', '59', '6b', '66', 'f0']]"
   ]
  },
  {
   "cell_type": "code",
   "execution_count": 31,
   "metadata": {},
   "outputs": [
    {
     "output_type": "execute_result",
     "data": {
      "text/plain": [
       "'5468697320697320616e20495634353669d77c808687160556713a8e98987560e8cc21fdc1f6263969e6fb9d49ec7c51360f6edc4a506fe47fc698eccbe7701657263b5c503c98f02c95307e596b66f0'"
      ]
     },
     "metadata": {},
     "execution_count": 31
    }
   ],
   "source": [
    "semiCipher = makeMessage(semiCiphterBlocks)\n",
    "semiCipher = vi + semiCipher \n",
    "semiCipher"
   ]
  },
  {
   "cell_type": "code",
   "execution_count": 32,
   "metadata": {},
   "outputs": [],
   "source": [
    "originalCipherBlocks = [\n",
    "\"0ca408a2aaa734602e0153fcfdeb575a\",\n",
    "\"c8ee13cdf1c60b0958cbcbaa6bc05c73\",\n",
    "\"5f7c31bd2e3d068a5dfcb8cead861c65\",\n",
    "\"320446515d3195fd21983d7354666bfd\",\n",
    "\"db84f4baf0a79081e1794bd58186cc0a\"]"
   ]
  },
  {
   "cell_type": "code",
   "execution_count": 33,
   "metadata": {},
   "outputs": [
    {
     "output_type": "execute_result",
     "data": {
      "text/plain": [
       "'0ca408a2aaa734602e0153fcfdeb575ac8ee13cdf1c60b0958cbcbaa6bc05c735f7c31bd2e3d068a5dfcb8cead861c65320446515d3195fd21983d7354666bfddb84f4baf0a79081e1794bd58186cc0a'"
      ]
     },
     "metadata": {},
     "execution_count": 33
    }
   ],
   "source": [
    "originalCipher = \"\".join(originalCipherBlocks)\n",
    "originalCipher"
   ]
  },
  {
   "cell_type": "code",
   "execution_count": 34,
   "metadata": {},
   "outputs": [
    {
     "output_type": "execute_result",
     "data": {
      "text/plain": [
       "'58cc61d18ace47404f6f73b5abdf626ca1396f4d77411d0c0ebaf124f3582913b7b01040efcb20b3341a4353e46a6034040b288d1761fa195e5ea59f9f811beb8ca2cfe6a09b0871cdec7babd8edaafa'"
      ]
     },
     "metadata": {},
     "execution_count": 34
    }
   ],
   "source": [
    "originalPlain = xorString(semiCipher, originalCipher)\n",
    "originalPlain"
   ]
  },
  {
   "cell_type": "code",
   "execution_count": 35,
   "metadata": {},
   "outputs": [
    {
     "output_type": "execute_result",
     "data": {
      "text/plain": [
       "b'X\\xcca\\xd1\\x8a\\xceG@Oos\\xb5\\xab\\xdfbl\\xa19oMwA\\x1d\\x0c\\x0e\\xba\\xf1$\\xf3X)\\x13\\xb7\\xb0\\x10@\\xef\\xcb \\xb34\\x1aCS\\xe4j`4\\x04\\x0b(\\x8d\\x17a\\xfa\\x19^^\\xa5\\x9f\\x9f\\x81\\x1b\\xeb\\x8c\\xa2\\xcf\\xe6\\xa0\\x9b\\x08q\\xcd\\xec{\\xab\\xd8\\xed\\xaa\\xfa'"
      ]
     },
     "metadata": {},
     "execution_count": 35
    }
   ],
   "source": [
    "bytes.fromhex(originalPlain)"
   ]
  },
  {
   "cell_type": "code",
   "execution_count": 3,
   "metadata": {},
   "outputs": [],
   "source": [
    "def makeMessage(blocks):\n",
    "    message = \"\"\n",
    "    for block in blocks:\n",
    "        for item in block:\n",
    "            message += item\n",
    "    return message"
   ]
  },
  {
   "cell_type": "code",
   "execution_count": 8,
   "metadata": {},
   "outputs": [
    {
     "output_type": "stream",
     "name": "stdout",
     "text": [
      "192\na9532316cdb77c6d695d242e2283fb9c7a8f3ec48663e2e57c5c9283de5d3ed9a5ff100ae2136125030bb8c720bded2372c711e7e4519dabc1cc4e3731a93615755b35525e3296fe229b3e70576568fedb84f4baf0a79081e1794bd58186cc0a\n"
     ]
    }
   ],
   "source": [
    "cipher = makeMessage(targetCipher)\n",
    "print(len(cipher))\n",
    "print(cipher)"
   ]
  },
  {
   "cell_type": "code",
   "execution_count": null,
   "metadata": {},
   "outputs": [],
   "source": []
  }
 ]
}