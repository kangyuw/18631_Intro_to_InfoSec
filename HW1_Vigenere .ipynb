{
 "metadata": {
  "language_info": {
   "codemirror_mode": {
    "name": "ipython",
    "version": 3
   },
   "file_extension": ".py",
   "mimetype": "text/x-python",
   "name": "python",
   "nbconvert_exporter": "python",
   "pygments_lexer": "ipython3",
   "version": "3.9.1-final"
  },
  "orig_nbformat": 2,
  "kernelspec": {
   "name": "python3",
   "display_name": "Python 3",
   "language": "python"
  }
 },
 "nbformat": 4,
 "nbformat_minor": 2,
 "cells": [
  {
   "cell_type": "code",
   "execution_count": 1,
   "metadata": {},
   "outputs": [],
   "source": [
    "import numpy as np"
   ]
  },
  {
   "cell_type": "code",
   "execution_count": 2,
   "metadata": {},
   "outputs": [],
   "source": [
    "ciphertext = \"csgrgzmvksynytbmpgkuiswhgrejsxthvhvftkkxgrfsgxgtvoraexklaCfztabittvpltwpqgpvwuvxjemrvmmshpibzolmpgkuigjmnikljuzmpdzimjcensrahmzswpjgsiwqouevggbicnuvrzmvcckjmzpiccybxnmvknrgszipnyrastgqqujzetvitTnbtkzwqnjzeembehrakkuiusrtiykspdlpxhcwknvfwgvhpexbxoixgecrgzzspitpstbvcckfaoblqukrzkzoponvrmblgtihitiqgoiyimipkdvaxobcqfkuiublgrZaxkzeetzbrywzgrerxcwvmsnvprjiwnkeeimedlvimgmbveefmbmvgrfhxovkqfvagxgtveuceisivsrahziqrei-cvuwjdoorwcpmehzztrmqgnkpvexxqgintnqgrrfgsiwpuwzgltmetlpcixnietrfwazepcvnkgqrutracziqreivrmZiruknxowruwzyphmshcvaxxipkmgbvzireewnvswvgidcsxbeptzahkipknxfxnirgvvaxnmgteuvxxixknxfslbsfapGlkaifemrpuxqgnkfaotpclkrviwqrlvgirgxjeenxaziqfxbzkzroeegvkoynakvstblgasvpobcvoknbgvheoegvutieoebqokmptveeibmqnjglkifklzgczwogegvrlwvoakvstaiervgetlaklcrzkventvexnmrctleiunxtujgetlvgplgezqspYfhvlteiij91r1ghjjhduo8155g5g312548jjcft0o\""
   ]
  },
  {
   "cell_type": "code",
   "execution_count": 3,
   "metadata": {},
   "outputs": [],
   "source": [
    "arr = []\n",
    "start_i = 0\n",
    "for i, c in enumerate(ciphertext):\n",
    "    if i == 0:\n",
    "        continue\n",
    "    count = 0\n",
    "    line = ciphertext[i:]\n",
    "    for ii, cc in enumerate(line):\n",
    "        if ciphertext[ii] == cc:\n",
    "            count += 1\n",
    "    arr.append(count)"
   ]
  },
  {
   "cell_type": "code",
   "execution_count": 4,
   "metadata": {},
   "outputs": [],
   "source": [
    "ndarr = np.array(arr)"
   ]
  },
  {
   "cell_type": "code",
   "execution_count": 5,
   "metadata": {},
   "outputs": [],
   "source": [
    "np.savetxt(\"counts.csv\", ndarr, delimiter=\",\", fmt=\"%d\")"
   ]
  },
  {
   "cell_type": "code",
   "execution_count": 9,
   "metadata": {},
   "outputs": [],
   "source": [
    "wordSubset = [[] for _ in range(8)]\n",
    "for i, c in enumerate(ciphertext):\n",
    "    if c.isnumeric():\n",
    "        continue\n",
    "    wordSubset[i % 8].append(c)"
   ]
  },
  {
   "cell_type": "code",
   "execution_count": 10,
   "metadata": {},
   "outputs": [],
   "source": [
    "outSets = []\n",
    "for i, wordList in enumerate(wordSubset):\n",
    "    outSets.append(\"\".join(wordList))"
   ]
  },
  {
   "cell_type": "code",
   "execution_count": 13,
   "metadata": {},
   "outputs": [],
   "source": [
    "with open(\"wordSubset.txt\", \"w\") as output:\n",
    "    for row in outSets:\n",
    "        output.write(str(row) + '\\n')"
   ]
  },
  {
   "cell_type": "code",
   "execution_count": 14,
   "metadata": {},
   "outputs": [],
   "source": [
    "from collections import Counter"
   ]
  },
  {
   "cell_type": "code",
   "execution_count": 19,
   "metadata": {},
   "outputs": [
    {
     "output_type": "execute_result",
     "data": {
      "text/plain": [
       "[('p', 11),\n",
       " ('g', 11),\n",
       " ('q', 10),\n",
       " ('v', 8),\n",
       " ('e', 7),\n",
       " ('r', 7),\n",
       " ('c', 6),\n",
       " ('i', 6),\n",
       " ('k', 4),\n",
       " ('m', 4),\n",
       " ('x', 4),\n",
       " ('n', 3),\n",
       " ('s', 3),\n",
       " ('a', 2),\n",
       " ('t', 2),\n",
       " ('j', 2),\n",
       " ('h', 2),\n",
       " ('w', 2),\n",
       " ('o', 2),\n",
       " ('f', 2),\n",
       " ('u', 1),\n",
       " ('d', 1),\n",
       " ('y', 1),\n",
       " ('l', 1)]"
      ]
     },
     "metadata": {},
     "execution_count": 19
    }
   ],
   "source": [
    "Counter(outSets[0]).most_common()"
   ]
  },
  {
   "cell_type": "code",
   "execution_count": null,
   "metadata": {},
   "outputs": [],
   "source": []
  }
 ]
}